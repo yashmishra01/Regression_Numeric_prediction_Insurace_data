{
 "cells": [
  {
   "cell_type": "markdown",
   "id": "4ac592ab",
   "metadata": {},
   "source": [
    "# Insurance data - Numeric prediction using Regression methods"
   ]
  },
  {
   "cell_type": "markdown",
   "id": "c81cc170",
   "metadata": {},
   "source": [
    "In order for a health insurance company to make money, it needs to collect more\n",
    "in yearly premiums than it spends on medical care to its beneficiaries. As a result, insurers invest a great deal of time and money in developing models that accurately forecast medical expenses for the insured population.<br>\n",
    "<br>\n",
    "Medical expenses are difficult to estimate because the most costly conditions are rare and seemingly random. Still, some conditions are more prevalent for certain segments of the population. For instance, lung cancer is more likely among smokers than non-smokers, and heart disease may be more likely among the obese.<br>\n",
    "<br>\n",
    "The goal of this analysis is to use patient data to estimate the average medical\n",
    "care expenses for such population segments. These estimates can be used to create actuarial tables that set the price of yearly premiums higher or lower, \n",
    "depending on the expected treatment costs.<br>\n",
    "<br>\n",
    "The insurance data set has 1338 observations of 7 variables.\n",
    "<br>\n",
    "We will use this file to predict the medical expenses.\n",
    "<br>\n",
    "<br>\n",
    "VARIABLE DESCRIPTIONS:<br>\n",
    "age:\t      age in years<br>\n",
    "sex:\t      gender<br>\n",
    "bmi:\t      body mass index<br>\n",
    "children:\thow many children do they have?<br>\n",
    "smoker:\t  do they smoke?<br>\n",
    "region:\t  geographic region<br>\n",
    "expenses:\tyearly medical expenses<br>\n",
    "<br>\n",
    "Target variable: **expenses**"
   ]
  },
  {
   "cell_type": "markdown",
   "id": "92f5aa97",
   "metadata": {},
   "source": [
    "\n",
    "\n",
    "## Import libraries"
   ]
  },
  {
   "cell_type": "code",
   "execution_count": 2,
   "id": "134eb44c",
   "metadata": {},
   "outputs": [
    {
     "name": "stdout",
     "output_type": "stream",
     "text": [
      "Collecting regressors\n",
      "  Downloading regressors-0.0.3.tar.gz (24 kB)\n",
      "Requirement already satisfied: numpy>=1.6.1 in ./opt/anaconda3/lib/python3.8/site-packages (from regressors) (1.20.1)\n",
      "Requirement already satisfied: scipy>=0.9 in ./opt/anaconda3/lib/python3.8/site-packages (from regressors) (1.6.2)\n",
      "Requirement already satisfied: matplotlib in ./opt/anaconda3/lib/python3.8/site-packages (from regressors) (3.3.4)\n",
      "Requirement already satisfied: scikit-learn>=0.17 in ./opt/anaconda3/lib/python3.8/site-packages (from regressors) (0.24.1)\n",
      "Requirement already satisfied: statsmodels>=0.6.1 in ./opt/anaconda3/lib/python3.8/site-packages (from regressors) (0.12.2)\n",
      "Requirement already satisfied: seaborn in ./opt/anaconda3/lib/python3.8/site-packages (from regressors) (0.11.1)\n",
      "Requirement already satisfied: pandas in ./opt/anaconda3/lib/python3.8/site-packages (from regressors) (1.2.4)\n",
      "Requirement already satisfied: joblib>=0.11 in ./opt/anaconda3/lib/python3.8/site-packages (from scikit-learn>=0.17->regressors) (1.0.1)\n",
      "Requirement already satisfied: threadpoolctl>=2.0.0 in ./opt/anaconda3/lib/python3.8/site-packages (from scikit-learn>=0.17->regressors) (2.1.0)\n",
      "Requirement already satisfied: patsy>=0.5 in ./opt/anaconda3/lib/python3.8/site-packages (from statsmodels>=0.6.1->regressors) (0.5.1)\n",
      "Requirement already satisfied: python-dateutil>=2.7.3 in ./opt/anaconda3/lib/python3.8/site-packages (from pandas->regressors) (2.8.1)\n",
      "Requirement already satisfied: pytz>=2017.3 in ./opt/anaconda3/lib/python3.8/site-packages (from pandas->regressors) (2021.1)\n",
      "Requirement already satisfied: six in ./opt/anaconda3/lib/python3.8/site-packages (from patsy>=0.5->statsmodels>=0.6.1->regressors) (1.15.0)\n",
      "Requirement already satisfied: cycler>=0.10 in ./opt/anaconda3/lib/python3.8/site-packages (from matplotlib->regressors) (0.10.0)\n",
      "Requirement already satisfied: pillow>=6.2.0 in ./opt/anaconda3/lib/python3.8/site-packages (from matplotlib->regressors) (8.2.0)\n",
      "Requirement already satisfied: pyparsing!=2.0.4,!=2.1.2,!=2.1.6,>=2.0.3 in ./opt/anaconda3/lib/python3.8/site-packages (from matplotlib->regressors) (2.4.7)\n",
      "Requirement already satisfied: kiwisolver>=1.0.1 in ./opt/anaconda3/lib/python3.8/site-packages (from matplotlib->regressors) (1.3.1)\n",
      "Building wheels for collected packages: regressors\n",
      "  Building wheel for regressors (setup.py) ... \u001b[?25ldone\n",
      "\u001b[?25h  Created wheel for regressors: filename=regressors-0.0.3-py2.py3-none-any.whl size=12375 sha256=9b2a10990a2c06dff65f178baa25d082b24da4b7907b6f850b49fea56078bdb4\n",
      "  Stored in directory: /Users/yashmishra/Library/Caches/pip/wheels/46/c3/e9/d1797db3a01a1f101ad3cbcdf01b1be7273a25c78c77dd4bb9\n",
      "Successfully built regressors\n",
      "Installing collected packages: regressors\n",
      "Successfully installed regressors-0.0.3\n"
     ]
    }
   ],
   "source": [
    "# Import libraries\n",
    "! pip install regressors\n",
    "import pandas as pd\n",
    "import seaborn as sns\n",
    "from sklearn.model_selection import train_test_split\n",
    "from sklearn import linear_model\n",
    "from sklearn.tree import DecisionTreeRegressor\n",
    "from regressors import stats\n",
    "from sklearn.metrics import mean_squared_error\n",
    "from sklearn.metrics import mean_absolute_error"
   ]
  },
  {
   "cell_type": "markdown",
   "id": "e1cc3d0e",
   "metadata": {},
   "source": [
    "\n",
    "\n",
    "## Upload and clean data"
   ]
  },
  {
   "cell_type": "code",
   "execution_count": 3,
   "id": "585f5390",
   "metadata": {},
   "outputs": [
    {
     "data": {
      "text/html": [
       "<div>\n",
       "<style scoped>\n",
       "    .dataframe tbody tr th:only-of-type {\n",
       "        vertical-align: middle;\n",
       "    }\n",
       "\n",
       "    .dataframe tbody tr th {\n",
       "        vertical-align: top;\n",
       "    }\n",
       "\n",
       "    .dataframe thead th {\n",
       "        text-align: right;\n",
       "    }\n",
       "</style>\n",
       "<table border=\"1\" class=\"dataframe\">\n",
       "  <thead>\n",
       "    <tr style=\"text-align: right;\">\n",
       "      <th></th>\n",
       "      <th>age</th>\n",
       "      <th>sex</th>\n",
       "      <th>bmi</th>\n",
       "      <th>children</th>\n",
       "      <th>smoker</th>\n",
       "      <th>region</th>\n",
       "      <th>expenses</th>\n",
       "    </tr>\n",
       "  </thead>\n",
       "  <tbody>\n",
       "    <tr>\n",
       "      <th>0</th>\n",
       "      <td>19</td>\n",
       "      <td>female</td>\n",
       "      <td>27.9</td>\n",
       "      <td>0</td>\n",
       "      <td>yes</td>\n",
       "      <td>southwest</td>\n",
       "      <td>16884.92</td>\n",
       "    </tr>\n",
       "    <tr>\n",
       "      <th>1</th>\n",
       "      <td>18</td>\n",
       "      <td>male</td>\n",
       "      <td>33.8</td>\n",
       "      <td>1</td>\n",
       "      <td>no</td>\n",
       "      <td>southeast</td>\n",
       "      <td>1725.55</td>\n",
       "    </tr>\n",
       "    <tr>\n",
       "      <th>2</th>\n",
       "      <td>28</td>\n",
       "      <td>male</td>\n",
       "      <td>33.0</td>\n",
       "      <td>3</td>\n",
       "      <td>no</td>\n",
       "      <td>southeast</td>\n",
       "      <td>4449.46</td>\n",
       "    </tr>\n",
       "    <tr>\n",
       "      <th>3</th>\n",
       "      <td>33</td>\n",
       "      <td>male</td>\n",
       "      <td>22.7</td>\n",
       "      <td>0</td>\n",
       "      <td>no</td>\n",
       "      <td>northwest</td>\n",
       "      <td>21984.47</td>\n",
       "    </tr>\n",
       "    <tr>\n",
       "      <th>4</th>\n",
       "      <td>32</td>\n",
       "      <td>male</td>\n",
       "      <td>28.9</td>\n",
       "      <td>0</td>\n",
       "      <td>no</td>\n",
       "      <td>northwest</td>\n",
       "      <td>3866.86</td>\n",
       "    </tr>\n",
       "    <tr>\n",
       "      <th>...</th>\n",
       "      <td>...</td>\n",
       "      <td>...</td>\n",
       "      <td>...</td>\n",
       "      <td>...</td>\n",
       "      <td>...</td>\n",
       "      <td>...</td>\n",
       "      <td>...</td>\n",
       "    </tr>\n",
       "    <tr>\n",
       "      <th>1333</th>\n",
       "      <td>50</td>\n",
       "      <td>male</td>\n",
       "      <td>31.0</td>\n",
       "      <td>3</td>\n",
       "      <td>no</td>\n",
       "      <td>northwest</td>\n",
       "      <td>10600.55</td>\n",
       "    </tr>\n",
       "    <tr>\n",
       "      <th>1334</th>\n",
       "      <td>18</td>\n",
       "      <td>female</td>\n",
       "      <td>31.9</td>\n",
       "      <td>0</td>\n",
       "      <td>no</td>\n",
       "      <td>northeast</td>\n",
       "      <td>2205.98</td>\n",
       "    </tr>\n",
       "    <tr>\n",
       "      <th>1335</th>\n",
       "      <td>18</td>\n",
       "      <td>female</td>\n",
       "      <td>36.9</td>\n",
       "      <td>0</td>\n",
       "      <td>no</td>\n",
       "      <td>southeast</td>\n",
       "      <td>1629.83</td>\n",
       "    </tr>\n",
       "    <tr>\n",
       "      <th>1336</th>\n",
       "      <td>21</td>\n",
       "      <td>female</td>\n",
       "      <td>25.8</td>\n",
       "      <td>0</td>\n",
       "      <td>no</td>\n",
       "      <td>southwest</td>\n",
       "      <td>2007.95</td>\n",
       "    </tr>\n",
       "    <tr>\n",
       "      <th>1337</th>\n",
       "      <td>61</td>\n",
       "      <td>female</td>\n",
       "      <td>29.1</td>\n",
       "      <td>0</td>\n",
       "      <td>yes</td>\n",
       "      <td>northwest</td>\n",
       "      <td>29141.36</td>\n",
       "    </tr>\n",
       "  </tbody>\n",
       "</table>\n",
       "<p>1338 rows × 7 columns</p>\n",
       "</div>"
      ],
      "text/plain": [
       "      age     sex   bmi  children smoker     region  expenses\n",
       "0      19  female  27.9         0    yes  southwest  16884.92\n",
       "1      18    male  33.8         1     no  southeast   1725.55\n",
       "2      28    male  33.0         3     no  southeast   4449.46\n",
       "3      33    male  22.7         0     no  northwest  21984.47\n",
       "4      32    male  28.9         0     no  northwest   3866.86\n",
       "...   ...     ...   ...       ...    ...        ...       ...\n",
       "1333   50    male  31.0         3     no  northwest  10600.55\n",
       "1334   18  female  31.9         0     no  northeast   2205.98\n",
       "1335   18  female  36.9         0     no  southeast   1629.83\n",
       "1336   21  female  25.8         0     no  southwest   2007.95\n",
       "1337   61  female  29.1         0    yes  northwest  29141.36\n",
       "\n",
       "[1338 rows x 7 columns]"
      ]
     },
     "execution_count": 3,
     "metadata": {},
     "output_type": "execute_result"
    }
   ],
   "source": [
    "# Read data\n",
    "insurance = pd.read_csv(\"insurance.csv\")\n",
    "insurance"
   ]
  },
  {
   "cell_type": "code",
   "execution_count": 4,
   "id": "43b2d931",
   "metadata": {},
   "outputs": [
    {
     "data": {
      "text/html": [
       "<div>\n",
       "<style scoped>\n",
       "    .dataframe tbody tr th:only-of-type {\n",
       "        vertical-align: middle;\n",
       "    }\n",
       "\n",
       "    .dataframe tbody tr th {\n",
       "        vertical-align: top;\n",
       "    }\n",
       "\n",
       "    .dataframe thead th {\n",
       "        text-align: right;\n",
       "    }\n",
       "</style>\n",
       "<table border=\"1\" class=\"dataframe\">\n",
       "  <thead>\n",
       "    <tr style=\"text-align: right;\">\n",
       "      <th></th>\n",
       "      <th>age</th>\n",
       "      <th>sex</th>\n",
       "      <th>bmi</th>\n",
       "      <th>children</th>\n",
       "      <th>smoker</th>\n",
       "      <th>region</th>\n",
       "      <th>expenses</th>\n",
       "    </tr>\n",
       "  </thead>\n",
       "  <tbody>\n",
       "    <tr>\n",
       "      <th>0</th>\n",
       "      <td>19</td>\n",
       "      <td>female</td>\n",
       "      <td>27.9</td>\n",
       "      <td>0</td>\n",
       "      <td>yes</td>\n",
       "      <td>southwest</td>\n",
       "      <td>16884.92</td>\n",
       "    </tr>\n",
       "    <tr>\n",
       "      <th>1</th>\n",
       "      <td>18</td>\n",
       "      <td>male</td>\n",
       "      <td>33.8</td>\n",
       "      <td>1</td>\n",
       "      <td>no</td>\n",
       "      <td>southeast</td>\n",
       "      <td>1725.55</td>\n",
       "    </tr>\n",
       "    <tr>\n",
       "      <th>2</th>\n",
       "      <td>28</td>\n",
       "      <td>male</td>\n",
       "      <td>33.0</td>\n",
       "      <td>3</td>\n",
       "      <td>no</td>\n",
       "      <td>southeast</td>\n",
       "      <td>4449.46</td>\n",
       "    </tr>\n",
       "    <tr>\n",
       "      <th>3</th>\n",
       "      <td>33</td>\n",
       "      <td>male</td>\n",
       "      <td>22.7</td>\n",
       "      <td>0</td>\n",
       "      <td>no</td>\n",
       "      <td>northwest</td>\n",
       "      <td>21984.47</td>\n",
       "    </tr>\n",
       "    <tr>\n",
       "      <th>4</th>\n",
       "      <td>32</td>\n",
       "      <td>male</td>\n",
       "      <td>28.9</td>\n",
       "      <td>0</td>\n",
       "      <td>no</td>\n",
       "      <td>northwest</td>\n",
       "      <td>3866.86</td>\n",
       "    </tr>\n",
       "  </tbody>\n",
       "</table>\n",
       "</div>"
      ],
      "text/plain": [
       "   age     sex   bmi  children smoker     region  expenses\n",
       "0   19  female  27.9         0    yes  southwest  16884.92\n",
       "1   18    male  33.8         1     no  southeast   1725.55\n",
       "2   28    male  33.0         3     no  southeast   4449.46\n",
       "3   33    male  22.7         0     no  northwest  21984.47\n",
       "4   32    male  28.9         0     no  northwest   3866.86"
      ]
     },
     "execution_count": 4,
     "metadata": {},
     "output_type": "execute_result"
    }
   ],
   "source": [
    "# Show the head rows of a data frame\n",
    "insurance.head()"
   ]
  },
  {
   "cell_type": "code",
   "execution_count": 5,
   "id": "a52a7a23",
   "metadata": {},
   "outputs": [
    {
     "data": {
      "text/plain": [
       "age           int64\n",
       "sex          object\n",
       "bmi         float64\n",
       "children      int64\n",
       "smoker       object\n",
       "region       object\n",
       "expenses    float64\n",
       "dtype: object"
      ]
     },
     "execution_count": 5,
     "metadata": {},
     "output_type": "execute_result"
    }
   ],
   "source": [
    "# Examine variable type\n",
    "insurance.dtypes"
   ]
  },
  {
   "cell_type": "code",
   "execution_count": 6,
   "id": "232e1a96",
   "metadata": {},
   "outputs": [],
   "source": [
    "# Change categorical variables to \"category\"\n",
    "insurance['sex'] = insurance['sex'].astype('category')\n",
    "insurance['smoker'] = insurance['smoker'].astype('category')\n",
    "insurance['region'] = insurance['region'].astype('category')"
   ]
  },
  {
   "cell_type": "code",
   "execution_count": 7,
   "id": "0f3a9560",
   "metadata": {},
   "outputs": [
    {
     "data": {
      "text/plain": [
       "age            int64\n",
       "sex         category\n",
       "bmi          float64\n",
       "children       int64\n",
       "smoker      category\n",
       "region      category\n",
       "expenses     float64\n",
       "dtype: object"
      ]
     },
     "execution_count": 7,
     "metadata": {},
     "output_type": "execute_result"
    }
   ],
   "source": [
    "# Examine variable type\n",
    "insurance.dtypes"
   ]
  },
  {
   "cell_type": "code",
   "execution_count": 8,
   "id": "19bca7af",
   "metadata": {},
   "outputs": [
    {
     "data": {
      "text/plain": [
       "Text(0.5, 1.0, 'Histogram of expenses in the insurance data set')"
      ]
     },
     "execution_count": 8,
     "metadata": {},
     "output_type": "execute_result"
    },
    {
     "data": {
      "image/png": "[encoded data removed]",
      "text/plain": [
       "<Figure size 432x288 with 1 Axes>"
      ]
     },
     "metadata": {
      "needs_background": "light"
     },
     "output_type": "display_data"
    }
   ],
   "source": [
    "# Data exploration: some examples\n",
    "# Histogram of insurance expenses\n",
    "snsplot = sns.histplot(x='expenses', data = insurance)\n",
    "snsplot.set_title(\"Histogram of expenses in the insurance data set\")"
   ]
  },
  {
   "cell_type": "code",
   "execution_count": 9,
   "id": "4833e267",
   "metadata": {},
   "outputs": [
    {
     "data": {
      "text/html": [
       "<div>\n",
       "<style scoped>\n",
       "    .dataframe tbody tr th:only-of-type {\n",
       "        vertical-align: middle;\n",
       "    }\n",
       "\n",
       "    .dataframe tbody tr th {\n",
       "        vertical-align: top;\n",
       "    }\n",
       "\n",
       "    .dataframe thead th {\n",
       "        text-align: right;\n",
       "    }\n",
       "</style>\n",
       "<table border=\"1\" class=\"dataframe\">\n",
       "  <thead>\n",
       "    <tr style=\"text-align: right;\">\n",
       "      <th></th>\n",
       "      <th>age</th>\n",
       "      <th>bmi</th>\n",
       "      <th>children</th>\n",
       "      <th>expenses</th>\n",
       "    </tr>\n",
       "  </thead>\n",
       "  <tbody>\n",
       "    <tr>\n",
       "      <th>age</th>\n",
       "      <td>1.000000</td>\n",
       "      <td>0.109341</td>\n",
       "      <td>0.042469</td>\n",
       "      <td>0.299008</td>\n",
       "    </tr>\n",
       "    <tr>\n",
       "      <th>bmi</th>\n",
       "      <td>0.109341</td>\n",
       "      <td>1.000000</td>\n",
       "      <td>0.012645</td>\n",
       "      <td>0.198576</td>\n",
       "    </tr>\n",
       "    <tr>\n",
       "      <th>children</th>\n",
       "      <td>0.042469</td>\n",
       "      <td>0.012645</td>\n",
       "      <td>1.000000</td>\n",
       "      <td>0.067998</td>\n",
       "    </tr>\n",
       "    <tr>\n",
       "      <th>expenses</th>\n",
       "      <td>0.299008</td>\n",
       "      <td>0.198576</td>\n",
       "      <td>0.067998</td>\n",
       "      <td>1.000000</td>\n",
       "    </tr>\n",
       "  </tbody>\n",
       "</table>\n",
       "</div>"
      ],
      "text/plain": [
       "               age       bmi  children  expenses\n",
       "age       1.000000  0.109341  0.042469  0.299008\n",
       "bmi       0.109341  1.000000  0.012645  0.198576\n",
       "children  0.042469  0.012645  1.000000  0.067998\n",
       "expenses  0.299008  0.198576  0.067998  1.000000"
      ]
     },
     "execution_count": 9,
     "metadata": {},
     "output_type": "execute_result"
    }
   ],
   "source": [
    "# exploring relationships among all numeric variables: correlation matrix\n",
    "insurance.corr()"
   ]
  },
  {
   "cell_type": "markdown",
   "id": "c92b7129",
   "metadata": {},
   "source": [
    "## Partition and examine the data set for regression model"
   ]
  },
  {
   "cell_type": "code",
   "execution_count": 10,
   "id": "e48e875c",
   "metadata": {},
   "outputs": [
    {
     "data": {
      "text/html": [
       "<div>\n",
       "<style scoped>\n",
       "    .dataframe tbody tr th:only-of-type {\n",
       "        vertical-align: middle;\n",
       "    }\n",
       "\n",
       "    .dataframe tbody tr th {\n",
       "        vertical-align: top;\n",
       "    }\n",
       "\n",
       "    .dataframe thead th {\n",
       "        text-align: right;\n",
       "    }\n",
       "</style>\n",
       "<table border=\"1\" class=\"dataframe\">\n",
       "  <thead>\n",
       "    <tr style=\"text-align: right;\">\n",
       "      <th></th>\n",
       "      <th>age</th>\n",
       "      <th>bmi</th>\n",
       "      <th>children</th>\n",
       "      <th>expenses</th>\n",
       "      <th>sex_male</th>\n",
       "      <th>smoker_yes</th>\n",
       "      <th>region_northwest</th>\n",
       "      <th>region_southeast</th>\n",
       "      <th>region_southwest</th>\n",
       "    </tr>\n",
       "  </thead>\n",
       "  <tbody>\n",
       "    <tr>\n",
       "      <th>0</th>\n",
       "      <td>19</td>\n",
       "      <td>27.9</td>\n",
       "      <td>0</td>\n",
       "      <td>16884.92</td>\n",
       "      <td>0</td>\n",
       "      <td>1</td>\n",
       "      <td>0</td>\n",
       "      <td>0</td>\n",
       "      <td>1</td>\n",
       "    </tr>\n",
       "    <tr>\n",
       "      <th>1</th>\n",
       "      <td>18</td>\n",
       "      <td>33.8</td>\n",
       "      <td>1</td>\n",
       "      <td>1725.55</td>\n",
       "      <td>1</td>\n",
       "      <td>0</td>\n",
       "      <td>0</td>\n",
       "      <td>1</td>\n",
       "      <td>0</td>\n",
       "    </tr>\n",
       "    <tr>\n",
       "      <th>2</th>\n",
       "      <td>28</td>\n",
       "      <td>33.0</td>\n",
       "      <td>3</td>\n",
       "      <td>4449.46</td>\n",
       "      <td>1</td>\n",
       "      <td>0</td>\n",
       "      <td>0</td>\n",
       "      <td>1</td>\n",
       "      <td>0</td>\n",
       "    </tr>\n",
       "    <tr>\n",
       "      <th>3</th>\n",
       "      <td>33</td>\n",
       "      <td>22.7</td>\n",
       "      <td>0</td>\n",
       "      <td>21984.47</td>\n",
       "      <td>1</td>\n",
       "      <td>0</td>\n",
       "      <td>1</td>\n",
       "      <td>0</td>\n",
       "      <td>0</td>\n",
       "    </tr>\n",
       "    <tr>\n",
       "      <th>4</th>\n",
       "      <td>32</td>\n",
       "      <td>28.9</td>\n",
       "      <td>0</td>\n",
       "      <td>3866.86</td>\n",
       "      <td>1</td>\n",
       "      <td>0</td>\n",
       "      <td>1</td>\n",
       "      <td>0</td>\n",
       "      <td>0</td>\n",
       "    </tr>\n",
       "    <tr>\n",
       "      <th>...</th>\n",
       "      <td>...</td>\n",
       "      <td>...</td>\n",
       "      <td>...</td>\n",
       "      <td>...</td>\n",
       "      <td>...</td>\n",
       "      <td>...</td>\n",
       "      <td>...</td>\n",
       "      <td>...</td>\n",
       "      <td>...</td>\n",
       "    </tr>\n",
       "    <tr>\n",
       "      <th>1333</th>\n",
       "      <td>50</td>\n",
       "      <td>31.0</td>\n",
       "      <td>3</td>\n",
       "      <td>10600.55</td>\n",
       "      <td>1</td>\n",
       "      <td>0</td>\n",
       "      <td>1</td>\n",
       "      <td>0</td>\n",
       "      <td>0</td>\n",
       "    </tr>\n",
       "    <tr>\n",
       "      <th>1334</th>\n",
       "      <td>18</td>\n",
       "      <td>31.9</td>\n",
       "      <td>0</td>\n",
       "      <td>2205.98</td>\n",
       "      <td>0</td>\n",
       "      <td>0</td>\n",
       "      <td>0</td>\n",
       "      <td>0</td>\n",
       "      <td>0</td>\n",
       "    </tr>\n",
       "    <tr>\n",
       "      <th>1335</th>\n",
       "      <td>18</td>\n",
       "      <td>36.9</td>\n",
       "      <td>0</td>\n",
       "      <td>1629.83</td>\n",
       "      <td>0</td>\n",
       "      <td>0</td>\n",
       "      <td>0</td>\n",
       "      <td>1</td>\n",
       "      <td>0</td>\n",
       "    </tr>\n",
       "    <tr>\n",
       "      <th>1336</th>\n",
       "      <td>21</td>\n",
       "      <td>25.8</td>\n",
       "      <td>0</td>\n",
       "      <td>2007.95</td>\n",
       "      <td>0</td>\n",
       "      <td>0</td>\n",
       "      <td>0</td>\n",
       "      <td>0</td>\n",
       "      <td>1</td>\n",
       "    </tr>\n",
       "    <tr>\n",
       "      <th>1337</th>\n",
       "      <td>61</td>\n",
       "      <td>29.1</td>\n",
       "      <td>0</td>\n",
       "      <td>29141.36</td>\n",
       "      <td>0</td>\n",
       "      <td>1</td>\n",
       "      <td>1</td>\n",
       "      <td>0</td>\n",
       "      <td>0</td>\n",
       "    </tr>\n",
       "  </tbody>\n",
       "</table>\n",
       "<p>1338 rows × 9 columns</p>\n",
       "</div>"
      ],
      "text/plain": [
       "      age   bmi  children  expenses  sex_male  smoker_yes  region_northwest  \\\n",
       "0      19  27.9         0  16884.92         0           1                 0   \n",
       "1      18  33.8         1   1725.55         1           0                 0   \n",
       "2      28  33.0         3   4449.46         1           0                 0   \n",
       "3      33  22.7         0  21984.47         1           0                 1   \n",
       "4      32  28.9         0   3866.86         1           0                 1   \n",
       "...   ...   ...       ...       ...       ...         ...               ...   \n",
       "1333   50  31.0         3  10600.55         1           0                 1   \n",
       "1334   18  31.9         0   2205.98         0           0                 0   \n",
       "1335   18  36.9         0   1629.83         0           0                 0   \n",
       "1336   21  25.8         0   2007.95         0           0                 0   \n",
       "1337   61  29.1         0  29141.36         0           1                 1   \n",
       "\n",
       "      region_southeast  region_southwest  \n",
       "0                    0                 1  \n",
       "1                    1                 0  \n",
       "2                    1                 0  \n",
       "3                    0                 0  \n",
       "4                    0                 0  \n",
       "...                ...               ...  \n",
       "1333                 0                 0  \n",
       "1334                 0                 0  \n",
       "1335                 1                 0  \n",
       "1336                 0                 1  \n",
       "1337                 0                 0  \n",
       "\n",
       "[1338 rows x 9 columns]"
      ]
     },
     "execution_count": 10,
     "metadata": {},
     "output_type": "execute_result"
    }
   ],
   "source": [
    "# Create dummy variables\n",
    "insurance = pd.get_dummies(insurance, columns=['sex','smoker','region'], drop_first=True)\n",
    "insurance"
   ]
  },
  {
   "cell_type": "code",
   "execution_count": 11,
   "id": "65450579",
   "metadata": {},
   "outputs": [
    {
     "name": "stdout",
     "output_type": "stream",
     "text": [
      "(936, 8) (402, 8) (936,) (402,)\n"
     ]
    }
   ],
   "source": [
    "# Partition the data\n",
    "target = insurance['expenses']\n",
    "predictors = insurance.drop(['expenses'],axis=1)\n",
    "predictors_train, predictors_test, target_train, target_test = train_test_split(predictors, target, test_size=0.3, random_state=0)\n",
    "print(predictors_train.shape, predictors_test.shape, target_train.shape, target_test.shape)"
   ]
  },
  {
   "cell_type": "code",
   "execution_count": 12,
   "id": "a1dc46c2",
   "metadata": {},
   "outputs": [
    {
     "data": {
      "text/plain": [
       "Text(0.5, 1.0, 'Histogram of expenses in the training data set')"
      ]
     },
     "execution_count": 12,
     "metadata": {},
     "output_type": "execute_result"
    },
    {
     "data": {
      "image/png": "[encoded data removed]",
      "text/plain": [
       "<Figure size 432x288 with 1 Axes>"
      ]
     },
     "metadata": {
      "needs_background": "light"
     },
     "output_type": "display_data"
    }
   ],
   "source": [
    "# Examine the distribution of target variable for training data set\n",
    "snsplot = sns.histplot(data = target_train)\n",
    "snsplot.set_title(\"Histogram of expenses in the training data set\")"
   ]
  },
  {
   "cell_type": "code",
   "execution_count": 13,
   "id": "07c131e2",
   "metadata": {},
   "outputs": [
    {
     "data": {
      "text/plain": [
       "Text(0.5, 1.0, 'Histogram of expenses in the testing data set')"
      ]
     },
     "execution_count": 13,
     "metadata": {},
     "output_type": "execute_result"
    },
    {
     "data": {
      "image/png": "[encoded data removed]",
      "text/plain": [
       "<Figure size 432x288 with 1 Axes>"
      ]
     },
     "metadata": {
      "needs_background": "light"
     },
     "output_type": "display_data"
    }
   ],
   "source": [
    "# Examine the distribution of target variable for testing data set\n",
    "snsplot = sns.histplot(data = target_test)\n",
    "snsplot.set_title(\"Histogram of expenses in the testing data set\")"
   ]
  },
  {
   "cell_type": "markdown",
   "id": "2d29e3b1",
   "metadata": {},
   "source": [
    "## Model 1: Simple linear regression"
   ]
  },
  {
   "cell_type": "code",
   "execution_count": 14,
   "id": "3c278aef",
   "metadata": {},
   "outputs": [
    {
     "data": {
      "text/plain": [
       "LinearRegression()"
      ]
     },
     "execution_count": 14,
     "metadata": {},
     "output_type": "execute_result"
    }
   ],
   "source": [
    "# Build a simple linear regression model with only bmi as predictor\n",
    "model1 = linear_model.LinearRegression()\n",
    "model1.fit(predictors_train[['bmi']], target_train)"
   ]
  },
  {
   "cell_type": "code",
   "execution_count": 15,
   "id": "41dbad89",
   "metadata": {},
   "outputs": [
    {
     "name": "stdout",
     "output_type": "stream",
     "text": [
      "Residuals:\n",
      "        Min        1Q    Median        3Q        Max\n",
      "-49481.7796 -4689.504 3797.5184 8046.6149 19753.6216\n",
      "\n",
      "\n",
      "Coefficients:\n",
      "               Estimate   Std. Error  t value   p value\n",
      "_intercept  2657.251940  1921.093525   1.3832  0.166934\n",
      "bmi          343.876266    14.021460  24.5250  0.000000\n",
      "---\n",
      "R-squared:  0.03258,    Adjusted R-squared:  0.03154\n",
      "F-statistic: 31.45 on 1 features\n"
     ]
    }
   ],
   "source": [
    "# Show model summary\n",
    "predictor_names = predictors_train[['bmi']].columns.values\n",
    "stats.summary(model1, predictors_train[['bmi']], target_train, predictor_names)"
   ]
  },
  {
   "cell_type": "code",
   "execution_count": 16,
   "id": "50d1810d",
   "metadata": {},
   "outputs": [],
   "source": [
    "# Make predictions on testing data\n",
    "prediction_on_test = model1.predict(predictors_test[['bmi']])"
   ]
  },
  {
   "cell_type": "code",
   "execution_count": 17,
   "id": "2dd3b0f7",
   "metadata": {},
   "outputs": [
    {
     "name": "stdout",
     "output_type": "stream",
     "text": [
      "MAE: 9462.431449463487\n",
      "RMSE: 12299.253726819523\n"
     ]
    }
   ],
   "source": [
    "# Examine the evaluation results on testing data: MAE and RMSE\n",
    "MAE = mean_absolute_error(target_test, prediction_on_test)\n",
    "RMSE = mean_squared_error(target_test, prediction_on_test, squared=False)\n",
    "print(\"MAE:\", MAE)\n",
    "print(\"RMSE:\", RMSE)"
   ]
  },
  {
   "cell_type": "markdown",
   "id": "97d4d858",
   "metadata": {},
   "source": [
    "## Model 2: Multiple linear regression"
   ]
  },
  {
   "cell_type": "code",
   "execution_count": 18,
   "id": "1b70627a",
   "metadata": {},
   "outputs": [
    {
     "data": {
      "text/plain": [
       "LinearRegression()"
      ]
     },
     "execution_count": 18,
     "metadata": {},
     "output_type": "execute_result"
    }
   ],
   "source": [
    "# Build a multiple linear regression model with all predictors\n",
    "model2 = linear_model.LinearRegression()\n",
    "model2.fit(predictors_train, target_train)"
   ]
  },
  {
   "cell_type": "code",
   "execution_count": 19,
   "id": "128782f1",
   "metadata": {},
   "outputs": [
    {
     "name": "stdout",
     "output_type": "stream",
     "text": [
      "Residuals:\n",
      "        Min         1Q   Median       3Q        Max\n",
      "-30302.4407 -1343.2315 985.6509 2988.446 11148.5211\n",
      "\n",
      "\n",
      "Coefficients:\n",
      "                      Estimate   Std. Error  t value   p value\n",
      "_intercept       -11836.117831  1191.289921  -9.9355  0.000000\n",
      "age                 256.402924    10.186903  25.1699  0.000000\n",
      "bmi                 335.414456    16.372545  20.4864  0.000000\n",
      "children            472.939931   166.843442   2.8346  0.004687\n",
      "sex_male            -47.692891   400.980436  -0.1189  0.905348\n",
      "smoker_yes        23435.046128   501.984750  46.6848  0.000000\n",
      "region_northwest   -561.353117   545.419326  -1.0292  0.303645\n",
      "region_southeast   -995.537125   551.901974  -1.8038  0.071580\n",
      "region_southwest   -798.824371   541.710520  -1.4746  0.140648\n",
      "---\n",
      "R-squared:  0.73096,    Adjusted R-squared:  0.72864\n",
      "F-statistic: 314.82 on 8 features\n"
     ]
    }
   ],
   "source": [
    "# Show model summary\n",
    "predictor_names = predictors_train.columns.values\n",
    "stats.summary(model2, predictors_train, target_train, predictor_names)"
   ]
  },
  {
   "cell_type": "code",
   "execution_count": 20,
   "id": "b4ad850e",
   "metadata": {},
   "outputs": [],
   "source": [
    "# Make predictions on testing data\n",
    "prediction_on_test = model2.predict(predictors_test)"
   ]
  },
  {
   "cell_type": "code",
   "execution_count": 21,
   "id": "5288ce01",
   "metadata": {},
   "outputs": [
    {
     "name": "stdout",
     "output_type": "stream",
     "text": [
      "MAE: 4011.3808850910846\n",
      "RMSE: 5773.7111375700415\n"
     ]
    }
   ],
   "source": [
    "# Examine the evaluation results on testing data: MAE and RMSE\n",
    "MAE = mean_absolute_error(target_test, prediction_on_test)\n",
    "RMSE = mean_squared_error(target_test, prediction_on_test, squared=False)\n",
    "print(\"MAE:\", MAE)\n",
    "print(\"RMSE:\", RMSE)"
   ]
  },
  {
   "cell_type": "markdown",
   "id": "b291253a",
   "metadata": {},
   "source": [
    "## Model 3: Improving Model Performance by Adding non-linear relationships"
   ]
  },
  {
   "cell_type": "markdown",
   "id": "8f48bfff",
   "metadata": {},
   "source": [
    "Adding a higher-order \"age\" term."
   ]
  },
  {
   "cell_type": "code",
   "execution_count": 22,
   "id": "3a173924",
   "metadata": {},
   "outputs": [],
   "source": [
    "# add a higher-order \"age\" term\n",
    "insurance['age2'] = insurance['age'] ** 2"
   ]
  },
  {
   "cell_type": "code",
   "execution_count": 23,
   "id": "58618720",
   "metadata": {},
   "outputs": [
    {
     "data": {
      "text/html": [
       "<div>\n",
       "<style scoped>\n",
       "    .dataframe tbody tr th:only-of-type {\n",
       "        vertical-align: middle;\n",
       "    }\n",
       "\n",
       "    .dataframe tbody tr th {\n",
       "        vertical-align: top;\n",
       "    }\n",
       "\n",
       "    .dataframe thead th {\n",
       "        text-align: right;\n",
       "    }\n",
       "</style>\n",
       "<table border=\"1\" class=\"dataframe\">\n",
       "  <thead>\n",
       "    <tr style=\"text-align: right;\">\n",
       "      <th></th>\n",
       "      <th>age</th>\n",
       "      <th>bmi</th>\n",
       "      <th>children</th>\n",
       "      <th>expenses</th>\n",
       "      <th>sex_male</th>\n",
       "      <th>smoker_yes</th>\n",
       "      <th>region_northwest</th>\n",
       "      <th>region_southeast</th>\n",
       "      <th>region_southwest</th>\n",
       "      <th>age2</th>\n",
       "    </tr>\n",
       "  </thead>\n",
       "  <tbody>\n",
       "    <tr>\n",
       "      <th>0</th>\n",
       "      <td>19</td>\n",
       "      <td>27.9</td>\n",
       "      <td>0</td>\n",
       "      <td>16884.92</td>\n",
       "      <td>0</td>\n",
       "      <td>1</td>\n",
       "      <td>0</td>\n",
       "      <td>0</td>\n",
       "      <td>1</td>\n",
       "      <td>361</td>\n",
       "    </tr>\n",
       "    <tr>\n",
       "      <th>1</th>\n",
       "      <td>18</td>\n",
       "      <td>33.8</td>\n",
       "      <td>1</td>\n",
       "      <td>1725.55</td>\n",
       "      <td>1</td>\n",
       "      <td>0</td>\n",
       "      <td>0</td>\n",
       "      <td>1</td>\n",
       "      <td>0</td>\n",
       "      <td>324</td>\n",
       "    </tr>\n",
       "    <tr>\n",
       "      <th>2</th>\n",
       "      <td>28</td>\n",
       "      <td>33.0</td>\n",
       "      <td>3</td>\n",
       "      <td>4449.46</td>\n",
       "      <td>1</td>\n",
       "      <td>0</td>\n",
       "      <td>0</td>\n",
       "      <td>1</td>\n",
       "      <td>0</td>\n",
       "      <td>784</td>\n",
       "    </tr>\n",
       "    <tr>\n",
       "      <th>3</th>\n",
       "      <td>33</td>\n",
       "      <td>22.7</td>\n",
       "      <td>0</td>\n",
       "      <td>21984.47</td>\n",
       "      <td>1</td>\n",
       "      <td>0</td>\n",
       "      <td>1</td>\n",
       "      <td>0</td>\n",
       "      <td>0</td>\n",
       "      <td>1089</td>\n",
       "    </tr>\n",
       "    <tr>\n",
       "      <th>4</th>\n",
       "      <td>32</td>\n",
       "      <td>28.9</td>\n",
       "      <td>0</td>\n",
       "      <td>3866.86</td>\n",
       "      <td>1</td>\n",
       "      <td>0</td>\n",
       "      <td>1</td>\n",
       "      <td>0</td>\n",
       "      <td>0</td>\n",
       "      <td>1024</td>\n",
       "    </tr>\n",
       "    <tr>\n",
       "      <th>...</th>\n",
       "      <td>...</td>\n",
       "      <td>...</td>\n",
       "      <td>...</td>\n",
       "      <td>...</td>\n",
       "      <td>...</td>\n",
       "      <td>...</td>\n",
       "      <td>...</td>\n",
       "      <td>...</td>\n",
       "      <td>...</td>\n",
       "      <td>...</td>\n",
       "    </tr>\n",
       "    <tr>\n",
       "      <th>1333</th>\n",
       "      <td>50</td>\n",
       "      <td>31.0</td>\n",
       "      <td>3</td>\n",
       "      <td>10600.55</td>\n",
       "      <td>1</td>\n",
       "      <td>0</td>\n",
       "      <td>1</td>\n",
       "      <td>0</td>\n",
       "      <td>0</td>\n",
       "      <td>2500</td>\n",
       "    </tr>\n",
       "    <tr>\n",
       "      <th>1334</th>\n",
       "      <td>18</td>\n",
       "      <td>31.9</td>\n",
       "      <td>0</td>\n",
       "      <td>2205.98</td>\n",
       "      <td>0</td>\n",
       "      <td>0</td>\n",
       "      <td>0</td>\n",
       "      <td>0</td>\n",
       "      <td>0</td>\n",
       "      <td>324</td>\n",
       "    </tr>\n",
       "    <tr>\n",
       "      <th>1335</th>\n",
       "      <td>18</td>\n",
       "      <td>36.9</td>\n",
       "      <td>0</td>\n",
       "      <td>1629.83</td>\n",
       "      <td>0</td>\n",
       "      <td>0</td>\n",
       "      <td>0</td>\n",
       "      <td>1</td>\n",
       "      <td>0</td>\n",
       "      <td>324</td>\n",
       "    </tr>\n",
       "    <tr>\n",
       "      <th>1336</th>\n",
       "      <td>21</td>\n",
       "      <td>25.8</td>\n",
       "      <td>0</td>\n",
       "      <td>2007.95</td>\n",
       "      <td>0</td>\n",
       "      <td>0</td>\n",
       "      <td>0</td>\n",
       "      <td>0</td>\n",
       "      <td>1</td>\n",
       "      <td>441</td>\n",
       "    </tr>\n",
       "    <tr>\n",
       "      <th>1337</th>\n",
       "      <td>61</td>\n",
       "      <td>29.1</td>\n",
       "      <td>0</td>\n",
       "      <td>29141.36</td>\n",
       "      <td>0</td>\n",
       "      <td>1</td>\n",
       "      <td>1</td>\n",
       "      <td>0</td>\n",
       "      <td>0</td>\n",
       "      <td>3721</td>\n",
       "    </tr>\n",
       "  </tbody>\n",
       "</table>\n",
       "<p>1338 rows × 10 columns</p>\n",
       "</div>"
      ],
      "text/plain": [
       "      age   bmi  children  expenses  sex_male  smoker_yes  region_northwest  \\\n",
       "0      19  27.9         0  16884.92         0           1                 0   \n",
       "1      18  33.8         1   1725.55         1           0                 0   \n",
       "2      28  33.0         3   4449.46         1           0                 0   \n",
       "3      33  22.7         0  21984.47         1           0                 1   \n",
       "4      32  28.9         0   3866.86         1           0                 1   \n",
       "...   ...   ...       ...       ...       ...         ...               ...   \n",
       "1333   50  31.0         3  10600.55         1           0                 1   \n",
       "1334   18  31.9         0   2205.98         0           0                 0   \n",
       "1335   18  36.9         0   1629.83         0           0                 0   \n",
       "1336   21  25.8         0   2007.95         0           0                 0   \n",
       "1337   61  29.1         0  29141.36         0           1                 1   \n",
       "\n",
       "      region_southeast  region_southwest  age2  \n",
       "0                    0                 1   361  \n",
       "1                    1                 0   324  \n",
       "2                    1                 0   784  \n",
       "3                    0                 0  1089  \n",
       "4                    0                 0  1024  \n",
       "...                ...               ...   ...  \n",
       "1333                 0                 0  2500  \n",
       "1334                 0                 0   324  \n",
       "1335                 1                 0   324  \n",
       "1336                 0                 1   441  \n",
       "1337                 0                 0  3721  \n",
       "\n",
       "[1338 rows x 10 columns]"
      ]
     },
     "execution_count": 23,
     "metadata": {},
     "output_type": "execute_result"
    }
   ],
   "source": [
    "insurance"
   ]
  },
  {
   "cell_type": "code",
   "execution_count": 24,
   "id": "4a981520",
   "metadata": {},
   "outputs": [
    {
     "name": "stdout",
     "output_type": "stream",
     "text": [
      "(936, 9) (402, 9) (936,) (402,)\n"
     ]
    }
   ],
   "source": [
    "# Partition the data\n",
    "target = insurance['expenses']\n",
    "predictors = insurance.drop(['expenses'],axis=1)\n",
    "predictors_train, predictors_test, target_train, target_test = train_test_split(predictors, target, test_size=0.3, random_state=0)\n",
    "print(predictors_train.shape, predictors_test.shape, target_train.shape, target_test.shape)"
   ]
  },
  {
   "cell_type": "code",
   "execution_count": 25,
   "id": "01df9d95",
   "metadata": {},
   "outputs": [
    {
     "data": {
      "text/plain": [
       "LinearRegression()"
      ]
     },
     "execution_count": 25,
     "metadata": {},
     "output_type": "execute_result"
    }
   ],
   "source": [
    "# Build a linear regression model with non-linear relationships\n",
    "model3 = linear_model.LinearRegression()\n",
    "model3.fit(predictors_train, target_train)"
   ]
  },
  {
   "cell_type": "code",
   "execution_count": 26,
   "id": "041de5c8",
   "metadata": {},
   "outputs": [
    {
     "name": "stdout",
     "output_type": "stream",
     "text": [
      "Residuals:\n",
      "        Min         1Q   Median        3Q        Max\n",
      "-30897.6196 -1143.0599 976.6449 3010.6995 10996.9905\n",
      "\n",
      "\n",
      "Coefficients:\n",
      "                      Estimate   Std. Error  t value   p value\n",
      "_intercept        -7946.613879  2024.274416  -3.9257  0.000093\n",
      "age                  27.144543    49.795286   0.5451  0.585799\n",
      "bmi                 333.788744    21.173262  15.7646  0.000000\n",
      "children            591.183643   171.920444   3.4387  0.000610\n",
      "sex_male            -70.422281   400.892935  -0.1757  0.860596\n",
      "smoker_yes        23462.056874   502.406607  46.6993  0.000000\n",
      "region_northwest   -526.692320   548.948589  -0.9595  0.337577\n",
      "region_southeast   -967.924415   550.533067  -1.7582  0.079048\n",
      "region_southwest   -781.301189   542.270220  -1.4408  0.149977\n",
      "age2                  2.888628     0.108131  26.7142  0.000000\n",
      "---\n",
      "R-squared:  0.73257,    Adjusted R-squared:  0.72997\n",
      "F-statistic: 281.85 on 9 features\n"
     ]
    }
   ],
   "source": [
    "# Show model summary\n",
    "predictor_names = predictors_train.columns.values\n",
    "stats.summary(model3, predictors_train, target_train, predictor_names)"
   ]
  },
  {
   "cell_type": "code",
   "execution_count": 27,
   "id": "c5c1150d",
   "metadata": {},
   "outputs": [],
   "source": [
    "# Make predictions on testing data\n",
    "prediction_on_test = model3.predict(predictors_test)"
   ]
  },
  {
   "cell_type": "code",
   "execution_count": 28,
   "id": "c7500460",
   "metadata": {},
   "outputs": [
    {
     "name": "stdout",
     "output_type": "stream",
     "text": [
      "MAE: 3953.760246314616\n",
      "RMSE: 5707.448582070194\n"
     ]
    }
   ],
   "source": [
    "# Examine the evaluation results on testing data: MAE and RMSE\n",
    "MAE = mean_absolute_error(target_test, prediction_on_test)\n",
    "RMSE = mean_squared_error(target_test, prediction_on_test, squared=False)\n",
    "print(\"MAE:\", MAE)\n",
    "print(\"RMSE:\", RMSE)"
   ]
  },
  {
   "cell_type": "markdown",
   "id": "0bbd32df",
   "metadata": {},
   "source": [
    "## Model 4: Add an interaction effect."
   ]
  },
  {
   "cell_type": "code",
   "execution_count": 29,
   "id": "cfe04e84",
   "metadata": {},
   "outputs": [],
   "source": [
    "# add an indicator for BMI >= 30\n",
    "insurance.loc[insurance['bmi'] >= 30, 'bmi30'] = 1\n",
    "insurance.loc[insurance['bmi'] < 30, 'bmi30'] = 0\n",
    "insurance['bmi30'] = insurance['bmi30'].astype('category')"
   ]
  },
  {
   "cell_type": "code",
   "execution_count": 30,
   "id": "30fe875d",
   "metadata": {},
   "outputs": [],
   "source": [
    "# add an interaction effects bmi30*smoker\n",
    "insurance['bmi30_smoker'] = insurance['bmi30'].astype(float) * insurance['smoker_yes'].astype(float)"
   ]
  },
  {
   "cell_type": "code",
   "execution_count": 31,
   "id": "6bf86ae6",
   "metadata": {},
   "outputs": [
    {
     "data": {
      "text/html": [
       "<div>\n",
       "<style scoped>\n",
       "    .dataframe tbody tr th:only-of-type {\n",
       "        vertical-align: middle;\n",
       "    }\n",
       "\n",
       "    .dataframe tbody tr th {\n",
       "        vertical-align: top;\n",
       "    }\n",
       "\n",
       "    .dataframe thead th {\n",
       "        text-align: right;\n",
       "    }\n",
       "</style>\n",
       "<table border=\"1\" class=\"dataframe\">\n",
       "  <thead>\n",
       "    <tr style=\"text-align: right;\">\n",
       "      <th></th>\n",
       "      <th>age</th>\n",
       "      <th>bmi</th>\n",
       "      <th>children</th>\n",
       "      <th>expenses</th>\n",
       "      <th>sex_male</th>\n",
       "      <th>smoker_yes</th>\n",
       "      <th>region_northwest</th>\n",
       "      <th>region_southeast</th>\n",
       "      <th>region_southwest</th>\n",
       "      <th>age2</th>\n",
       "      <th>bmi30</th>\n",
       "      <th>bmi30_smoker</th>\n",
       "    </tr>\n",
       "  </thead>\n",
       "  <tbody>\n",
       "    <tr>\n",
       "      <th>0</th>\n",
       "      <td>19</td>\n",
       "      <td>27.9</td>\n",
       "      <td>0</td>\n",
       "      <td>16884.92</td>\n",
       "      <td>0</td>\n",
       "      <td>1</td>\n",
       "      <td>0</td>\n",
       "      <td>0</td>\n",
       "      <td>1</td>\n",
       "      <td>361</td>\n",
       "      <td>0.0</td>\n",
       "      <td>0.0</td>\n",
       "    </tr>\n",
       "    <tr>\n",
       "      <th>1</th>\n",
       "      <td>18</td>\n",
       "      <td>33.8</td>\n",
       "      <td>1</td>\n",
       "      <td>1725.55</td>\n",
       "      <td>1</td>\n",
       "      <td>0</td>\n",
       "      <td>0</td>\n",
       "      <td>1</td>\n",
       "      <td>0</td>\n",
       "      <td>324</td>\n",
       "      <td>1.0</td>\n",
       "      <td>0.0</td>\n",
       "    </tr>\n",
       "    <tr>\n",
       "      <th>2</th>\n",
       "      <td>28</td>\n",
       "      <td>33.0</td>\n",
       "      <td>3</td>\n",
       "      <td>4449.46</td>\n",
       "      <td>1</td>\n",
       "      <td>0</td>\n",
       "      <td>0</td>\n",
       "      <td>1</td>\n",
       "      <td>0</td>\n",
       "      <td>784</td>\n",
       "      <td>1.0</td>\n",
       "      <td>0.0</td>\n",
       "    </tr>\n",
       "    <tr>\n",
       "      <th>3</th>\n",
       "      <td>33</td>\n",
       "      <td>22.7</td>\n",
       "      <td>0</td>\n",
       "      <td>21984.47</td>\n",
       "      <td>1</td>\n",
       "      <td>0</td>\n",
       "      <td>1</td>\n",
       "      <td>0</td>\n",
       "      <td>0</td>\n",
       "      <td>1089</td>\n",
       "      <td>0.0</td>\n",
       "      <td>0.0</td>\n",
       "    </tr>\n",
       "    <tr>\n",
       "      <th>4</th>\n",
       "      <td>32</td>\n",
       "      <td>28.9</td>\n",
       "      <td>0</td>\n",
       "      <td>3866.86</td>\n",
       "      <td>1</td>\n",
       "      <td>0</td>\n",
       "      <td>1</td>\n",
       "      <td>0</td>\n",
       "      <td>0</td>\n",
       "      <td>1024</td>\n",
       "      <td>0.0</td>\n",
       "      <td>0.0</td>\n",
       "    </tr>\n",
       "    <tr>\n",
       "      <th>...</th>\n",
       "      <td>...</td>\n",
       "      <td>...</td>\n",
       "      <td>...</td>\n",
       "      <td>...</td>\n",
       "      <td>...</td>\n",
       "      <td>...</td>\n",
       "      <td>...</td>\n",
       "      <td>...</td>\n",
       "      <td>...</td>\n",
       "      <td>...</td>\n",
       "      <td>...</td>\n",
       "      <td>...</td>\n",
       "    </tr>\n",
       "    <tr>\n",
       "      <th>1333</th>\n",
       "      <td>50</td>\n",
       "      <td>31.0</td>\n",
       "      <td>3</td>\n",
       "      <td>10600.55</td>\n",
       "      <td>1</td>\n",
       "      <td>0</td>\n",
       "      <td>1</td>\n",
       "      <td>0</td>\n",
       "      <td>0</td>\n",
       "      <td>2500</td>\n",
       "      <td>1.0</td>\n",
       "      <td>0.0</td>\n",
       "    </tr>\n",
       "    <tr>\n",
       "      <th>1334</th>\n",
       "      <td>18</td>\n",
       "      <td>31.9</td>\n",
       "      <td>0</td>\n",
       "      <td>2205.98</td>\n",
       "      <td>0</td>\n",
       "      <td>0</td>\n",
       "      <td>0</td>\n",
       "      <td>0</td>\n",
       "      <td>0</td>\n",
       "      <td>324</td>\n",
       "      <td>1.0</td>\n",
       "      <td>0.0</td>\n",
       "    </tr>\n",
       "    <tr>\n",
       "      <th>1335</th>\n",
       "      <td>18</td>\n",
       "      <td>36.9</td>\n",
       "      <td>0</td>\n",
       "      <td>1629.83</td>\n",
       "      <td>0</td>\n",
       "      <td>0</td>\n",
       "      <td>0</td>\n",
       "      <td>1</td>\n",
       "      <td>0</td>\n",
       "      <td>324</td>\n",
       "      <td>1.0</td>\n",
       "      <td>0.0</td>\n",
       "    </tr>\n",
       "    <tr>\n",
       "      <th>1336</th>\n",
       "      <td>21</td>\n",
       "      <td>25.8</td>\n",
       "      <td>0</td>\n",
       "      <td>2007.95</td>\n",
       "      <td>0</td>\n",
       "      <td>0</td>\n",
       "      <td>0</td>\n",
       "      <td>0</td>\n",
       "      <td>1</td>\n",
       "      <td>441</td>\n",
       "      <td>0.0</td>\n",
       "      <td>0.0</td>\n",
       "    </tr>\n",
       "    <tr>\n",
       "      <th>1337</th>\n",
       "      <td>61</td>\n",
       "      <td>29.1</td>\n",
       "      <td>0</td>\n",
       "      <td>29141.36</td>\n",
       "      <td>0</td>\n",
       "      <td>1</td>\n",
       "      <td>1</td>\n",
       "      <td>0</td>\n",
       "      <td>0</td>\n",
       "      <td>3721</td>\n",
       "      <td>0.0</td>\n",
       "      <td>0.0</td>\n",
       "    </tr>\n",
       "  </tbody>\n",
       "</table>\n",
       "<p>1338 rows × 12 columns</p>\n",
       "</div>"
      ],
      "text/plain": [
       "      age   bmi  children  expenses  sex_male  smoker_yes  region_northwest  \\\n",
       "0      19  27.9         0  16884.92         0           1                 0   \n",
       "1      18  33.8         1   1725.55         1           0                 0   \n",
       "2      28  33.0         3   4449.46         1           0                 0   \n",
       "3      33  22.7         0  21984.47         1           0                 1   \n",
       "4      32  28.9         0   3866.86         1           0                 1   \n",
       "...   ...   ...       ...       ...       ...         ...               ...   \n",
       "1333   50  31.0         3  10600.55         1           0                 1   \n",
       "1334   18  31.9         0   2205.98         0           0                 0   \n",
       "1335   18  36.9         0   1629.83         0           0                 0   \n",
       "1336   21  25.8         0   2007.95         0           0                 0   \n",
       "1337   61  29.1         0  29141.36         0           1                 1   \n",
       "\n",
       "      region_southeast  region_southwest  age2 bmi30  bmi30_smoker  \n",
       "0                    0                 1   361   0.0           0.0  \n",
       "1                    1                 0   324   1.0           0.0  \n",
       "2                    1                 0   784   1.0           0.0  \n",
       "3                    0                 0  1089   0.0           0.0  \n",
       "4                    0                 0  1024   0.0           0.0  \n",
       "...                ...               ...   ...   ...           ...  \n",
       "1333                 0                 0  2500   1.0           0.0  \n",
       "1334                 0                 0   324   1.0           0.0  \n",
       "1335                 1                 0   324   1.0           0.0  \n",
       "1336                 0                 1   441   0.0           0.0  \n",
       "1337                 0                 0  3721   0.0           0.0  \n",
       "\n",
       "[1338 rows x 12 columns]"
      ]
     },
     "execution_count": 31,
     "metadata": {},
     "output_type": "execute_result"
    }
   ],
   "source": [
    "insurance"
   ]
  },
  {
   "cell_type": "code",
   "execution_count": 32,
   "id": "ea459fa3",
   "metadata": {},
   "outputs": [
    {
     "name": "stdout",
     "output_type": "stream",
     "text": [
      "(936, 11) (402, 11) (936,) (402,)\n"
     ]
    }
   ],
   "source": [
    "# Partition the data\n",
    "target = insurance['expenses']\n",
    "predictors = insurance.drop(['expenses'],axis=1)\n",
    "predictors_train, predictors_test, target_train, target_test = train_test_split(predictors, target, test_size=0.3, random_state=0)\n",
    "print(predictors_train.shape, predictors_test.shape, target_train.shape, target_test.shape)"
   ]
  },
  {
   "cell_type": "code",
   "execution_count": 33,
   "id": "2ef0d43c",
   "metadata": {},
   "outputs": [
    {
     "data": {
      "text/plain": [
       "LinearRegression()"
      ]
     },
     "execution_count": 33,
     "metadata": {},
     "output_type": "execute_result"
    }
   ],
   "source": [
    "# Build a linear regression model with non-linear relationships\n",
    "model4 = linear_model.LinearRegression()\n",
    "model4.fit(predictors_train, target_train)"
   ]
  },
  {
   "cell_type": "code",
   "execution_count": 34,
   "id": "665c458d",
   "metadata": {},
   "outputs": [
    {
     "name": "stdout",
     "output_type": "stream",
     "text": [
      "Residuals:\n",
      "        Min     1Q    Median        3Q       Max\n",
      "-24356.6801 818.38 1311.4334 1694.2262 4055.3453\n",
      "\n",
      "\n",
      "Coefficients:\n",
      "                      Estimate   Std. Error  t value   p value\n",
      "_intercept        -1334.525875  1638.900791  -0.8143  0.415691\n",
      "age                  45.644502    38.078226   1.1987  0.230947\n",
      "bmi                 124.927286    17.127101   7.2941  0.000000\n",
      "children            602.951131   127.997651   4.7106  0.000003\n",
      "sex_male           -323.859152   298.512453  -1.0849  0.278241\n",
      "smoker_yes        13444.538555   471.284949  28.5274  0.000000\n",
      "region_northwest   -565.712615   408.660324  -1.3843  0.166594\n",
      "region_southeast  -1022.186642   409.954486  -2.4934  0.012824\n",
      "region_southwest  -1158.326763   403.636849  -2.8697  0.004201\n",
      "age2                  2.808353     0.080626  34.8318  0.000000\n",
      "bmi30             -1000.934145   483.373489  -2.0707  0.038658\n",
      "bmi30_smoker      20016.357007   701.429309  28.5365  0.000000\n",
      "---\n",
      "R-squared:  0.85189,    Adjusted R-squared:  0.85012\n",
      "F-statistic: 483.13 on 11 features\n"
     ]
    }
   ],
   "source": [
    "# Show model summary\n",
    "predictor_names = predictors_train.columns.values\n",
    "stats.summary(model4, predictors_train, target_train, predictor_names)"
   ]
  },
  {
   "cell_type": "code",
   "execution_count": 35,
   "id": "a607a097",
   "metadata": {},
   "outputs": [],
   "source": [
    "# Make predictions on testing data\n",
    "prediction_on_test = model4.predict(predictors_test)"
   ]
  },
  {
   "cell_type": "code",
   "execution_count": null,
   "id": "3eac1b3d",
   "metadata": {},
   "outputs": [],
   "source": [
    "# Examine the evaluation results on testing data: MAE and RMSE\n",
    "MAE = mean_absolute_error(target_test, prediction_on_test)\n",
    "RMSE = mean_squared_error(target_test, prediction_on_test, squared=False)\n",
    "print(\"MAE:\", MAE)\n",
    "print(\"RMSE:\", RMSE)"
   ]
  },
  {
   "cell_type": "markdown",
   "id": "3759e000",
   "metadata": {},
   "source": [
    "### Model4 is the best out of all the above models as it has the lowest MAE and RMSE values."
   ]
  },
  {
   "cell_type": "markdown",
   "id": "f6bfc2a2",
   "metadata": {},
   "source": [
    "## Model 5: Regression tree"
   ]
  },
  {
   "cell_type": "code",
   "execution_count": 37,
   "id": "d12b1ef3",
   "metadata": {},
   "outputs": [
    {
     "name": "stdout",
     "output_type": "stream",
     "text": [
      "(936, 8) (402, 8) (936,) (402,)\n"
     ]
    }
   ],
   "source": [
    "# Partition the data\n",
    "insurance = insurance.drop(['age2', 'bmi30', 'bmi30_smoker'], axis=1)\n",
    "target = insurance['expenses']\n",
    "predictors = insurance.drop(['expenses'],axis=1)\n",
    "predictors_train, predictors_test, target_train, target_test = train_test_split(predictors, target, test_size=0.3, random_state=0)\n",
    "print(predictors_train.shape, predictors_test.shape, target_train.shape, target_test.shape)"
   ]
  },
  {
   "cell_type": "code",
   "execution_count": 38,
   "id": "681be43f",
   "metadata": {},
   "outputs": [
    {
     "data": {
      "text/plain": [
       "DecisionTreeRegressor(max_depth=3, random_state=0)"
      ]
     },
     "execution_count": 38,
     "metadata": {},
     "output_type": "execute_result"
    }
   ],
   "source": [
    "# Build a regression tree model with max_depth=3\n",
    "model5 = DecisionTreeRegressor(random_state=0, max_depth=3)\n",
    "model5.fit(predictors_train, target_train)"
   ]
  },
  {
   "cell_type": "code",
   "execution_count": 39,
   "id": "ef4a7d0f",
   "metadata": {},
   "outputs": [
    {
     "data": {
      "text/plain": [
       "[Text(837.0, 951.3000000000001, 'smoker_yes <= 0.5\\nmse = 140986232.992\\nsamples = 936\\nvalue = 13232.917'),\n",
       " Text(418.5, 679.5, 'age <= 42.5\\nmse = 37737689.343\\nsamples = 746\\nvalue = 8616.732'),\n",
       " Text(209.25, 407.70000000000005, 'age <= 26.5\\nmse = 22225840.036\\nsamples = 407\\nvalue = 5418.786'),\n",
       " Text(104.625, 135.89999999999998, 'mse = 21407146.41\\nsamples = 177\\nvalue = 3657.79'),\n",
       " Text(313.875, 135.89999999999998, 'mse = 18632806.318\\nsamples = 230\\nvalue = 6773.987'),\n",
       " Text(627.75, 407.70000000000005, 'age <= 51.5\\nmse = 29341634.547\\nsamples = 339\\nvalue = 12456.154'),\n",
       " Text(523.125, 135.89999999999998, 'mse = 24590721.601\\nsamples = 141\\nvalue = 10446.126'),\n",
       " Text(732.375, 135.89999999999998, 'mse = 27798883.343\\nsamples = 198\\nvalue = 13887.537'),\n",
       " Text(1255.5, 679.5, 'bmi <= 29.95\\nmse = 134204999.764\\nsamples = 190\\nvalue = 31357.516'),\n",
       " Text(1046.25, 407.70000000000005, 'age <= 41.0\\nmse = 25603580.987\\nsamples = 96\\nvalue = 21353.204'),\n",
       " Text(941.625, 135.89999999999998, 'mse = 12635443.71\\nsamples = 56\\nvalue = 18653.078'),\n",
       " Text(1150.875, 135.89999999999998, 'mse = 19262280.821\\nsamples = 40\\nvalue = 25133.381'),\n",
       " Text(1464.75, 407.70000000000005, 'age <= 30.5\\nmse = 38510774.944\\nsamples = 94\\nvalue = 41574.686'),\n",
       " Text(1360.125, 135.89999999999998, 'mse = 7556745.614\\nsamples = 33\\nvalue = 36538.859'),\n",
       " Text(1569.375, 135.89999999999998, 'mse = 34115486.807\\nsamples = 61\\nvalue = 44298.986')]"
      ]
     },
     "execution_count": 39,
     "metadata": {},
     "output_type": "execute_result"
    },
    {
     "data": {
      "image/png": "[encoded data removed]",
      "text/plain": [
       "<Figure size 2160x1440 with 1 Axes>"
      ]
     },
     "metadata": {
      "needs_background": "light"
     },
     "output_type": "display_data"
    }
   ],
   "source": [
    "from matplotlib import pyplot as plt\n",
    "from sklearn import tree\n",
    "fig = plt.figure(figsize=(30,20))\n",
    "tree.plot_tree(model5, \n",
    "               feature_names=list(predictors_train.columns),  \n",
    "               filled=True)"
   ]
  },
  {
   "cell_type": "code",
   "execution_count": 40,
   "id": "24dc2241",
   "metadata": {},
   "outputs": [],
   "source": [
    "# Make predictions on testing data\n",
    "prediction_on_test = model5.predict(predictors_test)"
   ]
  },
  {
   "cell_type": "code",
   "execution_count": 41,
   "id": "0acbec5e",
   "metadata": {},
   "outputs": [
    {
     "name": "stdout",
     "output_type": "stream",
     "text": [
      "MAE: 2717.5186416559495\n",
      "RMSE: 4462.881172027449\n"
     ]
    }
   ],
   "source": [
    "# Examine the evaluation results on testing data: MAE and RMSE\n",
    "MAE = mean_absolute_error(target_test, prediction_on_test)\n",
    "RMSE = mean_squared_error(target_test, prediction_on_test, squared=False)\n",
    "print(\"MAE:\", MAE)\n",
    "print(\"RMSE:\", RMSE)"
   ]
  },
  {
   "cell_type": "markdown",
   "id": "fd828a4d",
   "metadata": {},
   "source": [
    "### From all the above Numeric prediction models model4 with the interaction effect and model5 (Regression tree) models have the lowest MAE and RMSE values which means model4 is the best out of all the above models as the error is lowest and model5 is the 2nd best. "
   ]
  }
 ],
 "metadata": {
  "kernelspec": {
   "display_name": "Python 3",
   "language": "python",
   "name": "python3"
  },
  "language_info": {
   "codemirror_mode": {
    "name": "ipython",
    "version": 3
   },
   "file_extension": ".py",
   "mimetype": "text/x-python",
   "name": "python",
   "nbconvert_exporter": "python",
   "pygments_lexer": "ipython3",
   "version": "3.8.8"
  }
 },
 "nbformat": 4,
 "nbformat_minor": 5
}
